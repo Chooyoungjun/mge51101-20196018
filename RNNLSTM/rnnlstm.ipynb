{
  "nbformat": 4,
  "nbformat_minor": 0,
  "metadata": {
    "colab": {
      "name": "Untitled3.ipynb",
      "provenance": []
    },
    "kernelspec": {
      "name": "python3",
      "display_name": "Python 3"
    }
  },
  "cells": [
    {
      "cell_type": "code",
      "metadata": {
        "id": "GFPW7_AeGVst",
        "colab_type": "code",
        "colab": {}
      },
      "source": [
        "\n",
        "import numpy as np\n",
        "import matplotlib.pyplot as plt\n",
        "from torch.autograd import Variable"
      ],
      "execution_count": 0,
      "outputs": []
    },
    {
      "cell_type": "code",
      "metadata": {
        "id": "jrBR6yxAv82u",
        "colab_type": "code",
        "colab": {}
      },
      "source": [
        "import numpy as np\n",
        "import pandas as pd\n",
        "import matplotlib.pyplot as plt\n",
        "\n",
        "import torch.nn as nn\n",
        "import torch"
      ],
      "execution_count": 0,
      "outputs": []
    },
    {
      "cell_type": "code",
      "metadata": {
        "id": "j0nFB46iTXFm",
        "colab_type": "code",
        "outputId": "76f04ed2-e9f0-4599-d5ac-8a2d9cd82896",
        "colab": {
          "base_uri": "https://localhost:8080/",
          "height": 279
        }
      },
      "source": [
        "import torch\n",
        "\n",
        "T = 1000\n",
        "time = torch.arange(0.0, T)\n",
        "X = torch.sin(0.01 * time) + 0.2 * torch.randn(T)\n",
        "plt.plot(time.numpy(), X.numpy(), label=\"sin(0.01*time)+noise\");\n",
        "plt.legend();\n",
        "plt.xlabel(\"Time\");\n",
        "plt.show()"
      ],
      "execution_count": 3,
      "outputs": [
        {
          "output_type": "display_data",
          "data": {
            "image/png": "[encoded data removed]",
            "text/plain": [
              "<Figure size 432x288 with 1 Axes>"
            ]
          },
          "metadata": {
            "tags": [],
            "needs_background": "light"
          }
        }
      ]
    },
    {
      "cell_type": "code",
      "metadata": {
        "id": "13bn55YRTXOj",
        "colab_type": "code",
        "colab": {}
      },
      "source": [
        "from torch.utils.data import TensorDataset\n",
        "from torch.utils.data import DataLoader\n",
        "\n",
        "# Hyperparameter\n",
        "batch_size, train_number = 16, 600\n",
        "\n",
        "# timestamp\n",
        "tau = 4\n",
        "features = torch.zeros((T-tau, tau)) # AR Model needs tau inputs: shape is (996, 4)\n",
        "\n",
        "for i in range(tau):\n",
        "    features[:, i] = X[i:(T-tau + i)]\n",
        "labels = X[tau:] # shape is (996, )\n",
        "\n",
        "# Prepare DataLoader\n",
        "train_data = TensorDataset(features[:train_number, :], labels[:train_number])\n",
        "test_data = TensorDataset(features[train_number:, :], labels[train_number:])"
      ],
      "execution_count": 0,
      "outputs": []
    },
    {
      "cell_type": "code",
      "metadata": {
        "id": "Q594IYIAY-sZ",
        "colab_type": "code",
        "colab": {}
      },
      "source": [
        "Z=[]\n",
        "for i in range(0,1000):\n",
        "  x=np.sin(0.01 * i) + 0.2 * np.random.randn(1)\n",
        "  # print(x.shape)\n",
        "  Z.append( x)\n",
        "\n",
        "X_train = []\n",
        "y_train = []\n",
        "\n",
        "for i in range(100, 600):\n",
        "    X_train.append(Z[i-100:i])\n",
        "    y_train.append(Z[i])\n",
        "    # print(i)\n",
        "X_train, y_train = np.array(X_train), np.array(y_train)\n",
        "\n",
        "# Reshaping\n",
        "X_train = X_train.reshape(X_train.shape[0], 1, X_train.shape[1])\n",
        "\n",
        "X_test = []\n",
        "y_test = []\n",
        "\n",
        "for i in range(600, 1000):\n",
        "    X_test.append(Z[i-100:i])\n",
        "    y_test.append(Z[i])\n",
        "    # print(i)\n",
        "X_test, y_test = np.array(X_test), np.array(y_test)\n",
        "\n",
        "# Reshaping\n",
        "X_test = X_test.reshape(X_test.shape[0], 1, X_test.shape[1])"
      ],
      "execution_count": 0,
      "outputs": []
    },
    {
      "cell_type": "code",
      "metadata": {
        "id": "r9ucYd_ZhNY-",
        "colab_type": "code",
        "outputId": "b90592f6-d21b-492c-eb6a-07cbeab50617",
        "colab": {
          "base_uri": "https://localhost:8080/",
          "height": 35
        }
      },
      "source": [
        "y_train.shape"
      ],
      "execution_count": 6,
      "outputs": [
        {
          "output_type": "execute_result",
          "data": {
            "text/plain": [
              "(500, 1)"
            ]
          },
          "metadata": {
            "tags": []
          },
          "execution_count": 6
        }
      ]
    },
    {
      "cell_type": "code",
      "metadata": {
        "id": "MwAIe06XZaRJ",
        "colab_type": "code",
        "outputId": "7ca79d7f-a639-4d81-8ddb-1ece772320ce",
        "colab": {
          "base_uri": "https://localhost:8080/",
          "height": 35
        }
      },
      "source": [
        "X.shape"
      ],
      "execution_count": 7,
      "outputs": [
        {
          "output_type": "execute_result",
          "data": {
            "text/plain": [
              "torch.Size([1000])"
            ]
          },
          "metadata": {
            "tags": []
          },
          "execution_count": 7
        }
      ]
    },
    {
      "cell_type": "code",
      "metadata": {
        "id": "0gdYHyKfTisp",
        "colab_type": "code",
        "colab": {}
      },
      "source": [
        "class RNN(nn.Module):\n",
        "    def __init__(self, i_size, h_size, n_layers, o_size):\n",
        "        super(RNN, self).__init__()\n",
        "\n",
        "        self.rnn = nn.RNN(\n",
        "            input_size=i_size,\n",
        "            hidden_size=h_size,\n",
        "            num_layers=n_layers\n",
        "        )\n",
        "        self.out = nn.Linear(h_size, o_size)\n",
        "\n",
        "    def forward(self, x, h_state):\n",
        "        r_out, hidden_state = self.rnn(x, h_state)\n",
        "        \n",
        "        hidden_size = hidden_state[-1].size(-1)\n",
        "        r_out = r_out.view(-1, hidden_size)\n",
        "        outs = self.out(r_out)\n",
        "\n",
        "        return outs, hidden_state"
      ],
      "execution_count": 0,
      "outputs": []
    },
    {
      "cell_type": "code",
      "metadata": {
        "id": "vFgvkbdoTdIC",
        "colab_type": "code",
        "colab": {}
      },
      "source": [
        "# Hyperparameters\n",
        "n_hidden = 50\n",
        "lr = 0.001\n",
        "epochs = 200\n",
        "\n",
        "model = RNN(100, n_hidden, 2, 1)\n",
        "# torch.autograd.set_detect_anomaly(True)\n",
        "optimiser = torch.optim.Adam(model.parameters(), lr=lr)\n",
        "criterion = nn.MSELoss()"
      ],
      "execution_count": 0,
      "outputs": []
    },
    {
      "cell_type": "code",
      "metadata": {
        "id": "RET2iAWBUnIn",
        "colab_type": "code",
        "outputId": "e0fdc02a-766c-4c3c-8b04-003cf7492509",
        "colab": {
          "base_uri": "https://localhost:8080/",
          "height": 89
        }
      },
      "source": [
        "print(model)\n",
        "optimiser = torch.optim.Adam(model.parameters(), lr=0.01)"
      ],
      "execution_count": 11,
      "outputs": [
        {
          "output_type": "stream",
          "text": [
            "RNN(\n",
            "  (rnn): RNN(100, 50, num_layers=2)\n",
            "  (out): Linear(in_features=50, out_features=1, bias=True)\n",
            ")\n"
          ],
          "name": "stdout"
        }
      ]
    },
    {
      "cell_type": "code",
      "metadata": {
        "id": "3nGezEtSTdKu",
        "colab_type": "code",
        "outputId": "bcf2a9f8-1b86-49b6-c3ef-81e2cbf079b8",
        "colab": {
          "base_uri": "https://localhost:8080/",
          "height": 253
        }
      },
      "source": [
        "hidden_state = None\n",
        "inputs = Variable(torch.from_numpy(X_train).float())\n",
        "labels = Variable(torch.from_numpy(y_train).float())\n",
        "\n",
        "for epoch in range(100):\n",
        "  output=None\n",
        "  hidden_state=None\n",
        "\n",
        "\n",
        "  output, hidden_state = model(inputs, hidden_state) \n",
        "  loss=0\n",
        "\n",
        "  loss = criterion(output.view(-1), labels)\n",
        "  optimiser.zero_grad()\n",
        "  loss.backward(retain_graph=True)                     # back propagation\n",
        "  optimiser.step()                                     # update the parameters\n",
        "  if epoch %10 ==0 :\n",
        "    print('epoch {}, loss {}'.format(epoch,loss.item()))"
      ],
      "execution_count": 20,
      "outputs": [
        {
          "output_type": "stream",
          "text": [
            "/usr/local/lib/python3.6/dist-packages/torch/nn/modules/loss.py:432: UserWarning: Using a target size (torch.Size([500, 1])) that is different to the input size (torch.Size([500])). This will likely lead to incorrect results due to broadcasting. Please ensure they have the same size.\n",
            "  return F.mse_loss(input, target, reduction=self.reduction)\n"
          ],
          "name": "stderr"
        },
        {
          "output_type": "stream",
          "text": [
            "epoch 0, loss 0.5914531946182251\n",
            "epoch 10, loss 0.591428816318512\n",
            "epoch 20, loss 0.5914047360420227\n",
            "epoch 30, loss 0.5913933515548706\n",
            "epoch 40, loss 0.5913884043693542\n",
            "epoch 50, loss 0.5913856625556946\n",
            "epoch 60, loss 0.5913843512535095\n",
            "epoch 70, loss 0.5913834571838379\n",
            "epoch 80, loss 0.5913829207420349\n",
            "epoch 90, loss 0.5913822650909424\n"
          ],
          "name": "stdout"
        }
      ]
    },
    {
      "cell_type": "code",
      "metadata": {
        "id": "g7sw52w8Rjpf",
        "colab_type": "code",
        "colab": {}
      },
      "source": [
        "test = Variable(torch.from_numpy(X_test).float())\n",
        "rnntest, hidden_state = model(test, hidden_state)"
      ],
      "execution_count": 0,
      "outputs": []
    },
    {
      "cell_type": "code",
      "metadata": {
        "id": "sg8OYqSE21m4",
        "colab_type": "code",
        "colab": {}
      },
      "source": [
        "class RNN(nn.Module):\n",
        "    def __init__(self, i_size, h_size, n_layers, o_size):\n",
        "        super(RNN, self).__init__()\n",
        "\n",
        "        self.rnn = nn.LSTM(\n",
        "            input_size=i_size,\n",
        "            hidden_size=h_size,\n",
        "            num_layers=n_layers\n",
        "        )\n",
        "        self.out = nn.Linear(h_size, o_size)\n",
        "\n",
        "    def forward(self, x, h_state):\n",
        "        r_out, hidden_state = self.rnn(x, h_state)\n",
        "        \n",
        "        hidden_size = hidden_state[-1].size(-1)\n",
        "        r_out = r_out.view(-1, hidden_size)\n",
        "        outs = self.out(r_out)\n",
        "\n",
        "        return outs, hidden_state\n",
        "# Hyperparameters\n",
        "n_hidden = 50\n",
        "lr = 0.0001\n",
        "epochs = 200\n",
        "\n",
        "lstmmodel = RNN(100, n_hidden, 2, 1)\n",
        "# torch.autograd.set_detect_anomaly(True)\n",
        "optimiser = torch.optim.Adam(model.parameters(), lr=lr)\n",
        "criterion = nn.MSELoss()"
      ],
      "execution_count": 0,
      "outputs": []
    },
    {
      "cell_type": "code",
      "metadata": {
        "id": "67EYg0W_KNEK",
        "colab_type": "code",
        "outputId": "0939d703-98df-433a-fd3d-8dde99a3dc07",
        "colab": {
          "base_uri": "https://localhost:8080/",
          "height": 253
        }
      },
      "source": [
        "hidden_state = None\n",
        "inputs = Variable(torch.from_numpy(X_train).float())\n",
        "labels = Variable(torch.from_numpy(y_train).float())\n",
        "\n",
        "for epoch in range(100):\n",
        "  output=None\n",
        "  hidden_state=None\n",
        "\n",
        "\n",
        "  output, hidden_state = lstmmodel(inputs, hidden_state) \n",
        "  loss=0\n",
        "\n",
        "  loss = criterion(output.view(-1), labels)\n",
        "  optimiser.zero_grad()\n",
        "  loss.backward(retain_graph=True)                     # back propagation\n",
        "  optimiser.step()                                     # update the parameters\n",
        "    \n",
        "  if epoch %10 ==0 :\n",
        "    print('epoch {}, loss {}'.format(epoch,loss.item()))"
      ],
      "execution_count": 23,
      "outputs": [
        {
          "output_type": "stream",
          "text": [
            "/usr/local/lib/python3.6/dist-packages/torch/nn/modules/loss.py:432: UserWarning: Using a target size (torch.Size([500, 1])) that is different to the input size (torch.Size([500])). This will likely lead to incorrect results due to broadcasting. Please ensure they have the same size.\n",
            "  return F.mse_loss(input, target, reduction=self.reduction)\n"
          ],
          "name": "stderr"
        },
        {
          "output_type": "stream",
          "text": [
            "epoch 0, loss 0.5919889807701111\n",
            "epoch 10, loss 0.5919889807701111\n",
            "epoch 20, loss 0.5919889807701111\n",
            "epoch 30, loss 0.5919889807701111\n",
            "epoch 40, loss 0.5919889807701111\n",
            "epoch 50, loss 0.5919889807701111\n",
            "epoch 60, loss 0.5919889807701111\n",
            "epoch 70, loss 0.5919889807701111\n",
            "epoch 80, loss 0.5919889807701111\n",
            "epoch 90, loss 0.5919889807701111\n"
          ],
          "name": "stdout"
        }
      ]
    },
    {
      "cell_type": "code",
      "metadata": {
        "id": "nlFS7mfFRZON",
        "colab_type": "code",
        "colab": {}
      },
      "source": [
        "lstmtest, hidden_state = lstmmodel(test, hidden_state)"
      ],
      "execution_count": 0,
      "outputs": []
    },
    {
      "cell_type": "code",
      "metadata": {
        "id": "hYrqp0o1Tur4",
        "colab_type": "code",
        "outputId": "2105248d-0e42-45e7-ed48-407f15407e92",
        "colab": {
          "base_uri": "https://localhost:8080/",
          "height": 279
        }
      },
      "source": [
        "T = 1000\n",
        "time = torch.arange(0.0, T)\n",
        "X = torch.sin(0.01 * time) + 0.2 * torch.randn(T)\n",
        "plt.plot(time.numpy(), X.numpy(), label=\"sin(0.01*time)+noise\");\n",
        "plt.plot(time[600:].numpy(), rnntest.detach().numpy(), label='RNN')\n",
        "plt.plot(time[600:].numpy(), lstmtest.detach().numpy(), label='LSTM')\n",
        "plt.legend();\n",
        "plt.xlabel(\"Time\");\n",
        "plt.show()"
      ],
      "execution_count": 25,
      "outputs": [
        {
          "output_type": "display_data",
          "data": {
            "image/png": "[encoded data removed]",
            "text/plain": [
              "<Figure size 432x288 with 1 Axes>"
            ]
          },
          "metadata": {
            "tags": [],
            "needs_background": "light"
          }
        }
      ]
    },
    {
      "cell_type": "code",
      "metadata": {
        "id": "Pv98l8gfTuyj",
        "colab_type": "code",
        "colab": {}
      },
      "source": [
        ""
      ],
      "execution_count": 0,
      "outputs": []
    }
  ]
}