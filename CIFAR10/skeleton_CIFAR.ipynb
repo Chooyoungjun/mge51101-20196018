{
  "nbformat": 4,
  "nbformat_minor": 0,
  "metadata": {
    "colab": {
      "name": "skeleton_CIFAR.ipynb",
      "provenance": [],
      "collapsed_sections": [],
      "toc_visible": true
    },
    "kernelspec": {
      "name": "python3",
      "display_name": "Python 3"
    },
    "accelerator": "GPU"
  },
  "cells": [
    {
      "cell_type": "markdown",
      "metadata": {
        "id": "view-in-github",
        "colab_type": "text"
      },
      "source": [
        "<a href=\"https://colab.research.google.com/github/sungbinlim/mge51101-instruct/blob/master/coursework/skeleton_CIFAR.ipynb\" target=\"_parent\"><img src=\"https://colab.research.google.com/assets/colab-badge.svg\" alt=\"Open In Colab\"/></a>"
      ]
    },
    {
      "cell_type": "markdown",
      "metadata": {
        "id": "B0vDJ2UFySvQ",
        "colab_type": "text"
      },
      "source": [
        "## Skeleton code for CIFAR datasets\n",
        "\n",
        "- use this code for the implementation of CIFAR dataloaders"
      ]
    },
    {
      "cell_type": "code",
      "metadata": {
        "id": "cUvSrMY5yQyR",
        "colab_type": "code",
        "outputId": "11007a3d-4c4b-46a6-c19e-e99d3458c062",
        "colab": {
          "base_uri": "https://localhost:8080/",
          "height": 316
        }
      },
      "source": [
        "!nvidia-smi\n",
        "import torch\n",
        "import torch.nn as nn\n",
        "import numpy as np\n",
        "import matplotlib.pyplot as plt\n",
        "print(torch.__version__)"
      ],
      "execution_count": 6,
      "outputs": [
        {
          "output_type": "stream",
          "text": [
            "Wed Apr 22 03:53:07 2020       \n",
            "+-----------------------------------------------------------------------------+\n",
            "| NVIDIA-SMI 440.64.00    Driver Version: 418.67       CUDA Version: 10.1     |\n",
            "|-------------------------------+----------------------+----------------------+\n",
            "| GPU  Name        Persistence-M| Bus-Id        Disp.A | Volatile Uncorr. ECC |\n",
            "| Fan  Temp  Perf  Pwr:Usage/Cap|         Memory-Usage | GPU-Util  Compute M. |\n",
            "|===============================+======================+======================|\n",
            "|   0  Tesla P4            Off  | 00000000:00:04.0 Off |                    0 |\n",
            "| N/A   54C    P0    24W /  75W |    563MiB /  7611MiB |      0%      Default |\n",
            "+-------------------------------+----------------------+----------------------+\n",
            "                                                                               \n",
            "+-----------------------------------------------------------------------------+\n",
            "| Processes:                                                       GPU Memory |\n",
            "|  GPU       PID   Type   Process name                             Usage      |\n",
            "|=============================================================================|\n",
            "+-----------------------------------------------------------------------------+\n",
            "1.4.0\n"
          ],
          "name": "stdout"
        }
      ]
    },
    {
      "cell_type": "markdown",
      "metadata": {
        "id": "B9EHuhjGy9qq",
        "colab_type": "text"
      },
      "source": [
        "## Model\n",
        "\n",
        "- write your LeNet and AlexNet code in the following `MyCNN` class"
      ]
    },
    {
      "cell_type": "code",
      "metadata": {
        "id": "ONGWFMu_y2Jt",
        "colab_type": "code",
        "colab": {}
      },
      "source": [
        "# Number of classes\n",
        "num_classes = 10\n",
        "\n",
        "# Loss function & Optimizers\n",
        "criterion = torch.nn.CrossEntropyLoss()\n",
        "optimizer = torch.optim.Adam\n",
        "lr_scheduler = torch.optim.lr_scheduler.CosineAnnealingLR\n",
        "\n",
        "# Hyperparameters\n",
        "num_epochs = 300\n",
        "batch_size = 128\n",
        "learning_rate = 0.001\n",
        "weight_decay = 1e-4\n",
        "lr_min = 0.1 * learning_rate\n",
        "\n",
        "\n",
        "class MyAlexCNN(nn.Module):\n",
        "    def __init__(self):\n",
        "        super(MyAlexCNN, self).__init__()\n",
        "        \n",
        "        self.features = nn.Sequential(\n",
        "                                      nn.Conv2d(3, 32, 3, stride=1, padding=0),\n",
        "                                      nn.ReLU(),\n",
        "                                      nn.MaxPool2d(3, stride=2),\n",
        "                                      nn.Conv2d(32, 64, 3, padding=1),\n",
        "                                      nn.ReLU(),\n",
        "                                      nn.MaxPool2d(3, stride=2),\n",
        "                                      nn.Conv2d(64, 128, 3, padding=1),\n",
        "                                      nn.ReLU(),\n",
        "                                      nn.Conv2d(128, 256, 3, padding=1),\n",
        "                                      nn.ReLU(),\n",
        "                                      nn.Conv2d(256, 256, 3, padding=0),\n",
        "                                      nn.ReLU(),\n",
        "                                      nn.MaxPool2d(3, stride=2),\n",
        "        )\n",
        "        self.classifier = nn.Sequential(\n",
        "                                        nn.Flatten(),\n",
        "                                        nn.Dropout(),\n",
        "                                        nn.Linear(256, 512),\n",
        "                                        nn.ReLU(),\n",
        "                                        nn.Dropout(),\n",
        "                                        nn.Linear(512, 256),\n",
        "                                        nn.ReLU(),\n",
        "                                        nn.Linear(256, num_classes)\n",
        "        )\n",
        "\n",
        "\n",
        "\n",
        "    def forward(self, inputs):\n",
        "\n",
        "        \"\"\"\n",
        "        implement code here\n",
        "        \"\"\"\n",
        "        \n",
        "        hidden = self.features(inputs)\n",
        "        shapes = hidden.size(1) * hidden.size(2) * hidden.size(3)\n",
        "        hidden = hidden.view(hidden.size(0), shapes)\n",
        "        outputs = self.classifier(hidden)\n",
        "        return outputs\n",
        "\n",
        "model = MyAlexCNN().cuda()\n",
        "\n",
        "# Loss function & Optimizers\n",
        "\"\"\"\n",
        "you can change the loss and optimizer\n",
        "\"\"\"\n",
        "criterion = torch.nn.CrossEntropyLoss()\n",
        "optimizer = torch.optim.Adam(model.parameters(), lr=0.001, weight_decay=1e-4)\n",
        "\n",
        "\n",
        "# Hyperparameters\n",
        "\"\"\"\n",
        "you can change the value\n",
        "\"\"\"\n",
        "num_epochs = 200\n",
        "batch_size = 128"
      ],
      "execution_count": 0,
      "outputs": []
    },
    {
      "cell_type": "markdown",
      "metadata": {
        "id": "qPoV6AuBnARk",
        "colab_type": "text"
      },
      "source": [
        "## Training & Evaluation\n",
        "\n",
        "- Don't change the below codes"
      ]
    },
    {
      "cell_type": "code",
      "metadata": {
        "id": "Udwc2uiPzYKH",
        "colab_type": "code",
        "outputId": "f2231de2-ae8b-42ed-d301-828daf855f62",
        "colab": {
          "base_uri": "https://localhost:8080/",
          "height": 1000
        }
      },
      "source": [
        "import sys\n",
        "sys.path.insert(0, \"..\")\n",
        "from torch.utils.data import DataLoader\n",
        "import torchvision\n",
        "import torchvision.transforms as transforms\n",
        "\n",
        "# CIFAR preprocessing \n",
        "transform_train = transforms.Compose([\n",
        "    transforms.RandomCrop(32, padding=4),\n",
        "    transforms.RandomHorizontalFlip(),\n",
        "    transforms.ToTensor(),\n",
        "    transforms.Normalize((0.4914, 0.4822, 0.4465), (0.2023, 0.1994, 0.2010)),\n",
        "])\n",
        "\n",
        "transform_test = transforms.Compose([\n",
        "    transforms.ToTensor(),\n",
        "    transforms.Normalize((0.4914, 0.4822, 0.4465), (0.2023, 0.1994, 0.2010)),\n",
        "])\n",
        "\n",
        "# DataLoader for CIFAR-10\n",
        "cifar_train = torchvision.datasets.CIFAR10(root=\"./\", \n",
        "                                         train=True, \n",
        "                                         download=True,\n",
        "                                         transform=transform_train\n",
        "                                         )\n",
        "cifar_test = torchvision.datasets.CIFAR10(root=\"./\", \n",
        "                                        train=False, \n",
        "                                        download=True,\n",
        "                                        transform=transform_test)\n",
        "\n",
        "\n",
        "train_loader = DataLoader(cifar_train, batch_size=batch_size, shuffle=True, num_workers=4)\n",
        "test_loader = DataLoader(cifar_test, batch_size=batch_size, shuffle=False, num_workers=4)\n",
        "\n",
        " \n",
        "accuracy_graph = {'train':[], 'test':[], 'epoch': []}\n",
        "loss_graph = {'train':[], 'test':[], 'epoch': []}\n",
        "\n",
        "class accumulator():\n",
        "    def __init__(self):\n",
        "        self.cnt = 0\n",
        "        self.obs = 0\n",
        "        self.loss = 0\n",
        "\n",
        "    def add(self, predict, output):\n",
        "\n",
        "        assert len(predict) == len(output)\n",
        "\n",
        "        self.cnt += self.count(predict, output).cpu().numpy()\n",
        "        self.obs += len(predict)\n",
        "    \n",
        "    def count(self, predict, output):\n",
        "        correct = torch.sum(torch.argmax(predict, dim=1) == output)\n",
        "        \n",
        "        return correct\n",
        "        \n",
        "    def loss_update(self, loss, batch_size):\n",
        "        self.loss += loss * batch_size\n",
        "\n",
        "    def running_stat(self):\n",
        "        if self.obs != 0:\n",
        "            run_acc = 100 * self.cnt / self.obs\n",
        "            run_loss = self.loss / self.obs\n",
        "        else: \n",
        "            run_acc = 0\n",
        "            rum_loss = 0\n",
        "\n",
        "        return run_acc, run_loss\n",
        "\n",
        "    def reset(self):\n",
        "        self.__init__()\n",
        "\n",
        "\n",
        "for epoch in range(num_epochs):\n",
        "\n",
        "    train_accuracy = accumulator()\n",
        "    test_accuracy = accumulator()\n",
        "\n",
        "    # Training\n",
        "    for train_x, train_y in train_loader: \n",
        "\n",
        "        train_x, train_y = train_x.cuda(), train_y.cuda()\n",
        "        train_predict = model(train_x)\n",
        "        loss = criterion(train_predict, train_y)\n",
        "\n",
        "        # Backpropagation        \n",
        "        optimizer.zero_grad()\n",
        "        loss.backward()\n",
        "        optimizer.step()\n",
        "\n",
        "        train_accuracy.add(train_predict, train_y)\n",
        "        train_accuracy.loss_update(loss, batch_size)\n",
        "\n",
        "    # Evaluation\n",
        "    if epoch % 10 ==0:\n",
        "             \n",
        "        for test_x, test_y in test_loader:\n",
        "\n",
        "            with torch.autograd.no_grad():\n",
        "                test_x, test_y = test_x.cuda(), test_y.cuda()\n",
        "                test_predict = model(test_x)\n",
        "                test_accuracy.add(test_predict, test_y)\n",
        "\n",
        "            loss_test = criterion(test_predict, test_y)\n",
        "            test_accuracy.loss_update(loss_test, batch_size)\n",
        "\n",
        "        train_acc, train_loss = train_accuracy.running_stat()\n",
        "        test_acc, test_loss = test_accuracy.running_stat()\n",
        "        accuracy_graph['train'].append(train_acc)\n",
        "        accuracy_graph['test'].append(test_acc) \n",
        "        accuracy_graph['epoch'].append(epoch)\n",
        "        loss_graph['train'].append(train_loss)\n",
        "        loss_graph['test'].append(test_loss)\n",
        "        loss_graph['epoch'].append(epoch)\n",
        "        \n",
        "        print(\"\\ntrain accuracy: {:.2f} %, test accuracy: {:.2f} %\".format(train_acc, test_acc))\n",
        "        print(\"epoch:{}, train_loss: {:.4f}, test_loss: {:.4f}\".format(epoch+1, train_loss, test_loss)) \n",
        "\n",
        "        train_accuracy.reset(), test_accuracy.reset()\n",
        "\n",
        "\n",
        "plt.plot(accuracy_graph['epoch'], accuracy_graph['train'], label = \"train accuracy\");\n",
        "plt.plot(accuracy_graph['epoch'], accuracy_graph['test'], label = \"test_accuracy\");\n",
        "plt.legend()\n",
        "plt.xlabel(\"epoch\")\n",
        "plt.ylabel(\"accuracy\")\n",
        "plt.show()\n",
        "\n",
        "plot_loss_train = plt.plot(loss_graph['epoch'], loss_graph['train'], label=\"train loss\");\n",
        "plt.plot(loss_graph['epoch'], loss_graph['test'], label=\"test loss\");\n",
        "plt.legend()\n",
        "plt.xlabel(\"epoch\")\n",
        "plt.ylabel(\"loss\")\n",
        "plt.show()"
      ],
      "execution_count": 8,
      "outputs": [
        {
          "output_type": "stream",
          "text": [
            "Files already downloaded and verified\n",
            "Files already downloaded and verified\n",
            "\n",
            "train accuracy: 27.49 %, test accuracy: 39.76 %\n",
            "epoch:1, train_loss: 1.8484, test_loss: 1.5713\n",
            "\n",
            "train accuracy: 74.44 %, test accuracy: 73.78 %\n",
            "epoch:11, train_loss: 0.7674, test_loss: 0.8185\n",
            "\n",
            "train accuracy: 79.58 %, test accuracy: 76.91 %\n",
            "epoch:21, train_loss: 0.6154, test_loss: 0.7414\n",
            "\n",
            "train accuracy: 82.15 %, test accuracy: 79.48 %\n",
            "epoch:31, train_loss: 0.5418, test_loss: 0.6583\n",
            "\n",
            "train accuracy: 84.04 %, test accuracy: 81.00 %\n",
            "epoch:41, train_loss: 0.4794, test_loss: 0.6111\n",
            "\n",
            "train accuracy: 84.88 %, test accuracy: 80.80 %\n",
            "epoch:51, train_loss: 0.4484, test_loss: 0.5991\n",
            "\n",
            "train accuracy: 85.75 %, test accuracy: 81.82 %\n",
            "epoch:61, train_loss: 0.4268, test_loss: 0.5934\n",
            "\n",
            "train accuracy: 86.47 %, test accuracy: 82.62 %\n",
            "epoch:71, train_loss: 0.4080, test_loss: 0.6049\n",
            "\n",
            "train accuracy: 86.95 %, test accuracy: 81.53 %\n",
            "epoch:81, train_loss: 0.3933, test_loss: 0.6442\n",
            "\n",
            "train accuracy: 87.41 %, test accuracy: 82.73 %\n",
            "epoch:91, train_loss: 0.3748, test_loss: 0.5884\n",
            "\n",
            "train accuracy: 88.00 %, test accuracy: 82.69 %\n",
            "epoch:101, train_loss: 0.3632, test_loss: 0.5805\n",
            "\n",
            "train accuracy: 87.97 %, test accuracy: 82.71 %\n",
            "epoch:111, train_loss: 0.3621, test_loss: 0.6069\n",
            "\n",
            "train accuracy: 88.43 %, test accuracy: 82.65 %\n",
            "epoch:121, train_loss: 0.3475, test_loss: 0.6187\n",
            "\n",
            "train accuracy: 88.60 %, test accuracy: 82.81 %\n",
            "epoch:131, train_loss: 0.3468, test_loss: 0.5971\n",
            "\n",
            "train accuracy: 89.09 %, test accuracy: 82.83 %\n",
            "epoch:141, train_loss: 0.3340, test_loss: 0.6116\n",
            "\n",
            "train accuracy: 89.16 %, test accuracy: 82.92 %\n",
            "epoch:151, train_loss: 0.3305, test_loss: 0.6050\n",
            "\n",
            "train accuracy: 89.27 %, test accuracy: 83.39 %\n",
            "epoch:161, train_loss: 0.3264, test_loss: 0.6315\n",
            "\n",
            "train accuracy: 89.33 %, test accuracy: 82.72 %\n",
            "epoch:171, train_loss: 0.3255, test_loss: 0.6176\n",
            "\n",
            "train accuracy: 89.56 %, test accuracy: 83.77 %\n",
            "epoch:181, train_loss: 0.3170, test_loss: 0.6208\n",
            "\n",
            "train accuracy: 89.68 %, test accuracy: 83.73 %\n",
            "epoch:191, train_loss: 0.3096, test_loss: 0.5833\n"
          ],
          "name": "stdout"
        },
        {
          "output_type": "display_data",
          "data": {
            "image/png": "[encoded data removed]",
            "text/plain": [
              "<Figure size 432x288 with 1 Axes>"
            ]
          },
          "metadata": {
            "tags": [],
            "needs_background": "light"
          }
        },
        {
          "output_type": "display_data",
          "data": {
            "image/png": "[encoded data removed]",
            "text/plain": [
              "<Figure size 432x288 with 1 Axes>"
            ]
          },
          "metadata": {
            "tags": [],
            "needs_background": "light"
          }
        }
      ]
    },
    {
      "cell_type": "code",
      "metadata": {
        "id": "OfuTjGybvqkZ",
        "colab_type": "code",
        "outputId": "66b73dd9-06a7-44c3-f76c-f7ebb19d0411",
        "colab": {
          "base_uri": "https://localhost:8080/",
          "height": 541
        }
      },
      "source": [
        "import matplotlib.pyplot as plt\n",
        "\n",
        "# Plot loss curve\n",
        "plt.plot(accuracy_graph['epoch'], accuracy_graph['train'], label = \"train accuracy\");\n",
        "plt.plot(accuracy_graph['epoch'], accuracy_graph['test'], label = \"test_accuracy\");\n",
        "plt.legend()\n",
        "plt.xlabel(\"epoch\")\n",
        "plt.ylabel(\"accuracy\")\n",
        "plt.show()\n",
        "\n",
        "plot_loss_train = plt.plot(loss_graph['epoch'], loss_graph['train'], label=\"train loss\");\n",
        "plt.plot(loss_graph['epoch'], loss_graph['test'], label=\"test loss\");\n",
        "plt.legend()\n",
        "plt.xlabel(\"epoch\")\n",
        "plt.ylabel(\"loss\")\n",
        "plt.show()"
      ],
      "execution_count": 9,
      "outputs": [
        {
          "output_type": "display_data",
          "data": {
            "image/png": "[encoded data removed]",
            "text/plain": [
              "<Figure size 432x288 with 1 Axes>"
            ]
          },
          "metadata": {
            "tags": [],
            "needs_background": "light"
          }
        },
        {
          "output_type": "display_data",
          "data": {
            "image/png": "[encoded data removed]",
            "text/plain": [
              "<Figure size 432x288 with 1 Axes>"
            ]
          },
          "metadata": {
            "tags": [],
            "needs_background": "light"
          }
        }
      ]
    },
    {
      "cell_type": "code",
      "metadata": {
        "id": "-ZgCHkr2q126",
        "colab_type": "code",
        "colab": {}
      },
      "source": [
        "# Number of classes\n",
        "num_classes = 10\n",
        "\n",
        "class MyLenetCNN(nn.Module):\n",
        "    def __init__(self):\n",
        "        super(MyLenetCNN, self).__init__()\n",
        "        \"\"\"\n",
        "        implement code here\n",
        "        \"\"\"\n",
        "     \n",
        "        self.features = nn.Sequential(\n",
        "                                      nn.Conv2d(3, 6, kernel_size=5),\n",
        "                                      nn.ReLU(),\n",
        "                                      nn.MaxPool2d(2),\n",
        "                                      nn.Conv2d(6, 16, kernel_size=5),\n",
        "                                      nn.ReLU(),\n",
        "                                      nn.MaxPool2d(2),\n",
        "        )\n",
        "        self.classifier = nn.Sequential(\n",
        "                                        nn.Linear(16*5*5, 120),\n",
        "                                        nn.ReLU(),\n",
        "                                        nn.Linear(120, 84),\n",
        "                                        nn.ReLU(),\n",
        "                                        nn.Linear(84, num_classes)\n",
        "        )\n",
        "\n",
        "    def forward(self, inputs):\n",
        "\n",
        "        \"\"\"\n",
        "        implement code here\n",
        "        \"\"\"\n",
        "        \n",
        "        hidden = self.features(inputs)\n",
        "        shapes = hidden.size(1) * hidden.size(2) * hidden.size(3)\n",
        "        hidden = hidden.view(hidden.size(0), shapes)\n",
        "        outputs = self.classifier(hidden)\n",
        "        return outputs\n",
        "\n",
        "model = MyLenetCNN().cuda()\n",
        "\n",
        "# Loss function & Optimizers\n",
        "\"\"\"\n",
        "you can change the loss and optimizer\n",
        "\"\"\"\n",
        "criterion = torch.nn.CrossEntropyLoss()\n",
        "optimizer = torch.optim.Adam(model.parameters(), lr=0.001, weight_decay=1e-4)\n",
        "\n",
        "\n",
        "# Hyperparameters\n",
        "\"\"\"\n",
        "you can change the value\n",
        "\"\"\"\n",
        "num_epochs = 200\n",
        "batch_size = 128"
      ],
      "execution_count": 0,
      "outputs": []
    },
    {
      "cell_type": "code",
      "metadata": {
        "id": "dlDWe7Ps_0mU",
        "colab_type": "code",
        "colab": {
          "base_uri": "https://localhost:8080/",
          "height": 1000
        },
        "outputId": "58b227f3-0131-40ee-9639-a467dd56d660"
      },
      "source": [
        "\n",
        "# CIFAR preprocessing \n",
        "transform_train = transforms.Compose([\n",
        "    transforms.RandomCrop(32, padding=4),\n",
        "    transforms.RandomHorizontalFlip(),\n",
        "    transforms.ToTensor(),\n",
        "    transforms.Normalize((0.4914, 0.4822, 0.4465), (0.2023, 0.1994, 0.2010)),\n",
        "])\n",
        "\n",
        "transform_test = transforms.Compose([\n",
        "    transforms.ToTensor(),\n",
        "    transforms.Normalize((0.4914, 0.4822, 0.4465), (0.2023, 0.1994, 0.2010)),\n",
        "])\n",
        "\n",
        "# DataLoader for CIFAR-10\n",
        "cifar_train = torchvision.datasets.CIFAR10(root=\"./\", \n",
        "                                         train=True, \n",
        "                                         download=True,\n",
        "                                         transform=transform_train\n",
        "                                         )\n",
        "cifar_test = torchvision.datasets.CIFAR10(root=\"./\", \n",
        "                                        train=False, \n",
        "                                        download=True,\n",
        "                                        transform=transform_test)\n",
        "\n",
        "\n",
        "train_loader = DataLoader(cifar_train, batch_size=batch_size, shuffle=True, num_workers=4)\n",
        "test_loader = DataLoader(cifar_test, batch_size=batch_size, shuffle=False, num_workers=4)\n",
        "\n",
        " \n",
        "accuracy_graph = {'train':[], 'test':[], 'epoch': []}\n",
        "loss_graph = {'train':[], 'test':[], 'epoch': []}\n",
        "\n",
        "class accumulator():\n",
        "    def __init__(self):\n",
        "        self.cnt = 0\n",
        "        self.obs = 0\n",
        "        self.loss = 0\n",
        "\n",
        "    def add(self, predict, output):\n",
        "\n",
        "        assert len(predict) == len(output)\n",
        "\n",
        "        self.cnt += self.count(predict, output).cpu().numpy()\n",
        "        self.obs += len(predict)\n",
        "    \n",
        "    def count(self, predict, output):\n",
        "        correct = torch.sum(torch.argmax(predict, dim=1) == output)\n",
        "        \n",
        "        return correct\n",
        "        \n",
        "    def loss_update(self, loss, batch_size):\n",
        "        self.loss += loss * batch_size\n",
        "\n",
        "    def running_stat(self):\n",
        "        if self.obs != 0:\n",
        "            run_acc = 100 * self.cnt / self.obs\n",
        "            run_loss = self.loss / self.obs\n",
        "        else: \n",
        "            run_acc = 0\n",
        "            rum_loss = 0\n",
        "\n",
        "        return run_acc, run_loss\n",
        "\n",
        "    def reset(self):\n",
        "        self.__init__()\n",
        "\n",
        "\n",
        "for epoch in range(num_epochs):\n",
        "\n",
        "    train_accuracy = accumulator()\n",
        "    test_accuracy = accumulator()\n",
        "\n",
        "    # Training\n",
        "    for train_x, train_y in train_loader: \n",
        "\n",
        "        train_x, train_y = train_x.cuda(), train_y.cuda()\n",
        "        train_predict = model(train_x)\n",
        "        loss = criterion(train_predict, train_y)\n",
        "\n",
        "        # Backpropagation        \n",
        "        optimizer.zero_grad()\n",
        "        loss.backward()\n",
        "        optimizer.step()\n",
        "\n",
        "        train_accuracy.add(train_predict, train_y)\n",
        "        train_accuracy.loss_update(loss, batch_size)\n",
        "\n",
        "    # Evaluation\n",
        "    if epoch % 10 ==0:\n",
        "             \n",
        "        for test_x, test_y in test_loader:\n",
        "\n",
        "            with torch.autograd.no_grad():\n",
        "                test_x, test_y = test_x.cuda(), test_y.cuda()\n",
        "                test_predict = model(test_x)\n",
        "                test_accuracy.add(test_predict, test_y)\n",
        "\n",
        "            loss_test = criterion(test_predict, test_y)\n",
        "            test_accuracy.loss_update(loss_test, batch_size)\n",
        "\n",
        "        train_acc, train_loss = train_accuracy.running_stat()\n",
        "        test_acc, test_loss = test_accuracy.running_stat()\n",
        "        accuracy_graph['train'].append(train_acc)\n",
        "        accuracy_graph['test'].append(test_acc) \n",
        "        accuracy_graph['epoch'].append(epoch)\n",
        "        loss_graph['train'].append(train_loss)\n",
        "        loss_graph['test'].append(test_loss)\n",
        "        loss_graph['epoch'].append(epoch)\n",
        "        \n",
        "        print(\"\\ntrain accuracy: {:.2f} %, test accuracy: {:.2f} %\".format(train_acc, test_acc))\n",
        "        print(\"epoch:{}, train_loss: {:.4f}, test_loss: {:.4f}\".format(epoch+1, train_loss, test_loss)) \n",
        "\n",
        "        train_accuracy.reset(), test_accuracy.reset()\n",
        "\n",
        "\n",
        "plt.plot(accuracy_graph['epoch'], accuracy_graph['train'], label = \"train accuracy\");\n",
        "plt.plot(accuracy_graph['epoch'], accuracy_graph['test'], label = \"test_accuracy\");\n",
        "plt.legend()\n",
        "plt.xlabel(\"epoch\")\n",
        "plt.ylabel(\"accuracy\")\n",
        "plt.show()\n",
        "\n",
        "plot_loss_train = plt.plot(loss_graph['epoch'], loss_graph['train'], label=\"train loss\");\n",
        "plt.plot(loss_graph['epoch'], loss_graph['test'], label=\"test loss\");\n",
        "plt.legend()\n",
        "plt.xlabel(\"epoch\")\n",
        "plt.ylabel(\"loss\")\n",
        "plt.show()"
      ],
      "execution_count": 11,
      "outputs": [
        {
          "output_type": "stream",
          "text": [
            "Files already downloaded and verified\n",
            "Files already downloaded and verified\n",
            "\n",
            "train accuracy: 33.69 %, test accuracy: 45.27 %\n",
            "epoch:1, train_loss: 1.7999, test_loss: 1.5281\n",
            "\n",
            "train accuracy: 57.77 %, test accuracy: 61.00 %\n",
            "epoch:11, train_loss: 1.1876, test_loss: 1.1002\n",
            "\n",
            "train accuracy: 63.05 %, test accuracy: 65.91 %\n",
            "epoch:21, train_loss: 1.0444, test_loss: 0.9753\n",
            "\n",
            "train accuracy: 65.70 %, test accuracy: 67.87 %\n",
            "epoch:31, train_loss: 0.9762, test_loss: 0.9271\n",
            "\n",
            "train accuracy: 66.96 %, test accuracy: 69.30 %\n",
            "epoch:41, train_loss: 0.9415, test_loss: 0.8915\n",
            "\n",
            "train accuracy: 67.91 %, test accuracy: 69.44 %\n",
            "epoch:51, train_loss: 0.9073, test_loss: 0.8686\n",
            "\n",
            "train accuracy: 68.66 %, test accuracy: 69.99 %\n",
            "epoch:61, train_loss: 0.8899, test_loss: 0.8569\n",
            "\n",
            "train accuracy: 69.25 %, test accuracy: 70.00 %\n",
            "epoch:71, train_loss: 0.8781, test_loss: 0.8510\n",
            "\n",
            "train accuracy: 69.77 %, test accuracy: 71.71 %\n",
            "epoch:81, train_loss: 0.8609, test_loss: 0.8171\n",
            "\n",
            "train accuracy: 69.81 %, test accuracy: 70.59 %\n",
            "epoch:91, train_loss: 0.8573, test_loss: 0.8348\n",
            "\n",
            "train accuracy: 70.29 %, test accuracy: 71.82 %\n",
            "epoch:101, train_loss: 0.8481, test_loss: 0.8063\n",
            "\n",
            "train accuracy: 70.56 %, test accuracy: 71.63 %\n",
            "epoch:111, train_loss: 0.8454, test_loss: 0.8146\n",
            "\n",
            "train accuracy: 70.89 %, test accuracy: 72.39 %\n",
            "epoch:121, train_loss: 0.8273, test_loss: 0.8063\n",
            "\n",
            "train accuracy: 71.10 %, test accuracy: 73.08 %\n",
            "epoch:131, train_loss: 0.8247, test_loss: 0.7849\n",
            "\n",
            "train accuracy: 71.16 %, test accuracy: 72.49 %\n",
            "epoch:141, train_loss: 0.8199, test_loss: 0.7872\n",
            "\n",
            "train accuracy: 71.14 %, test accuracy: 71.78 %\n",
            "epoch:151, train_loss: 0.8199, test_loss: 0.8275\n",
            "\n",
            "train accuracy: 71.47 %, test accuracy: 72.53 %\n",
            "epoch:161, train_loss: 0.8123, test_loss: 0.7931\n",
            "\n",
            "train accuracy: 71.61 %, test accuracy: 72.00 %\n",
            "epoch:171, train_loss: 0.8091, test_loss: 0.8076\n",
            "\n",
            "train accuracy: 71.75 %, test accuracy: 72.81 %\n",
            "epoch:181, train_loss: 0.8070, test_loss: 0.7821\n",
            "\n",
            "train accuracy: 71.86 %, test accuracy: 73.08 %\n",
            "epoch:191, train_loss: 0.8047, test_loss: 0.7802\n"
          ],
          "name": "stdout"
        },
        {
          "output_type": "display_data",
          "data": {
            "image/png": "[encoded data removed]",
            "text/plain": [
              "<Figure size 432x288 with 1 Axes>"
            ]
          },
          "metadata": {
            "tags": [],
            "needs_background": "light"
          }
        },
        {
          "output_type": "display_data",
          "data": {
            "image/png": "[encoded data removed]",
            "text/plain": [
              "<Figure size 432x288 with 1 Axes>"
            ]
          },
          "metadata": {
            "tags": [],
            "needs_background": "light"
          }
        }
      ]
    },
    {
      "cell_type": "code",
      "metadata": {
        "id": "3XSaFy1p_4oj",
        "colab_type": "code",
        "colab": {
          "base_uri": "https://localhost:8080/",
          "height": 545
        },
        "outputId": "7b3cdb84-3088-411d-99a5-4078a450fdb0"
      },
      "source": [
        "import matplotlib.pyplot as plt\n",
        "\n",
        "# Plot loss curve\n",
        "plt.plot(accuracy_graph['epoch'], accuracy_graph['train'], label = \"train accuracy\");\n",
        "plt.plot(accuracy_graph['epoch'], accuracy_graph['test'], label = \"test_accuracy\");\n",
        "plt.legend()\n",
        "plt.xlabel(\"epoch\")\n",
        "plt.ylabel(\"accuracy\")\n",
        "plt.show()\n",
        "\n",
        "plot_loss_train = plt.plot(loss_graph['epoch'], loss_graph['train'], label=\"train loss\");\n",
        "plt.plot(loss_graph['epoch'], loss_graph['test'], label=\"test loss\");\n",
        "plt.legend()\n",
        "plt.xlabel(\"epoch\")\n",
        "plt.ylabel(\"loss\")\n",
        "plt.show()"
      ],
      "execution_count": 12,
      "outputs": [
        {
          "output_type": "display_data",
          "data": {
            "image/png": "[encoded data removed]",
            "text/plain": [
              "<Figure size 432x288 with 1 Axes>"
            ]
          },
          "metadata": {
            "tags": [],
            "needs_background": "light"
          }
        },
        {
          "output_type": "display_data",
          "data": {
            "image/png": "[encoded data removed]",
            "text/plain": [
              "<Figure size 432x288 with 1 Axes>"
            ]
          },
          "metadata": {
            "tags": [],
            "needs_background": "light"
          }
        }
      ]
    }
  ]
}